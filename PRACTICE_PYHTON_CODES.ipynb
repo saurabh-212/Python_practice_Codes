{
 "cells": [
  {
   "cell_type": "code",
   "execution_count": 3,
   "id": "b4888744",
   "metadata": {},
   "outputs": [
    {
     "name": "stdout",
     "output_type": "stream",
     "text": [
      "1\n",
      "3\n",
      "5\n",
      "7\n",
      "9\n"
     ]
    }
   ],
   "source": [
    "# Skip even numbers\n",
    "\n",
    "for i in range(1, 11):\n",
    "    if i % 2 == 0:\n",
    "        continue  # Skip even numbers\n",
    "    print(i)\n"
   ]
  },
  {
   "cell_type": "code",
   "execution_count": 8,
   "id": "9a4ef7c3",
   "metadata": {},
   "outputs": [
    {
     "name": "stdout",
     "output_type": "stream",
     "text": [
      "10\n"
     ]
    }
   ],
   "source": [
    "def my_function():\n",
    "    x = 10  # x is a local variable\n",
    "    print(x)\n",
    "\n",
    "my_function()\n",
    "# Accessing x outside of the function will result in an error\n"
   ]
  },
  {
   "cell_type": "code",
   "execution_count": 13,
   "id": "5aec0adc",
   "metadata": {},
   "outputs": [
    {
     "name": "stdout",
     "output_type": "stream",
     "text": [
      "10\n",
      "20\n",
      "10\n"
     ]
    }
   ],
   "source": [
    "#SCOPE RESOLUTION\n",
    "\n",
    "temp = 10\n",
    "\n",
    "def fun():\n",
    "    temp=20\n",
    "    print(temp)\n",
    "    \n",
    "print(temp)\n",
    "fun()"
   ]
  },
  {
   "cell_type": "code",
   "execution_count": 19,
   "id": "78daaec9",
   "metadata": {},
   "outputs": [
    {
     "name": "stdout",
     "output_type": "stream",
     "text": [
      "20\n",
      "20\n"
     ]
    }
   ],
   "source": [
    "#SCOPE RESOLUTION\n",
    "\n",
    "temp = 10\n",
    "\n",
    "def fun():\n",
    "    global temp\n",
    "    temp=20\n",
    "    print(temp)\n",
    "fun()\n",
    "print(temp)"
   ]
  },
  {
   "cell_type": "code",
   "execution_count": 26,
   "id": "70638426",
   "metadata": {},
   "outputs": [
    {
     "data": {
      "text/plain": [
       "['hello', 'world']"
      ]
     },
     "execution_count": 26,
     "metadata": {},
     "output_type": "execute_result"
    }
   ],
   "source": [
    "#DECORATORS\n",
    "\n",
    "def lowcase(function):\n",
    "    def wrapper():\n",
    "        func=function()\n",
    "        string_lowcase=func.lower()\n",
    "        return string_lowcase\n",
    "    return wrapper\n",
    "\n",
    "def split(function):\n",
    "    def wrapper():\n",
    "        func=function()\n",
    "        string_spilt=func.split()\n",
    "        return string_spilt\n",
    "    return wrapper\n",
    "\n",
    "@split\n",
    "@lowcase\n",
    "\n",
    "\n",
    "def hello():\n",
    "    return 'Hello World'\n",
    "hello()"
   ]
  },
  {
   "cell_type": "code",
   "execution_count": 44,
   "id": "62162117",
   "metadata": {},
   "outputs": [
    {
     "data": {
      "text/plain": [
       "'hello sara hello shubh'"
      ]
     },
     "execution_count": 44,
     "metadata": {},
     "output_type": "execute_result"
    }
   ],
   "source": [
    "#DECORATOR FUNCTION TO CAPITALIZE NAME\n",
    "\n",
    "def capitalize(function):\n",
    "    def wrapper(args1,args2):\n",
    "        arg1=args1.capitalize\n",
    "        arg2=args2.capitalize\n",
    "        string_hello= function(args1,args2)\n",
    "        return string_hello\n",
    "    return wrapper\n",
    "\n",
    "@capitalize\n",
    "def say_hello(name1,name2):\n",
    "    return \"hello \"+name1+' hello '+name2\n",
    "say_hello('sara', 'shubh')"
   ]
  },
  {
   "cell_type": "code",
   "execution_count": 45,
   "id": "b0b9d40a",
   "metadata": {},
   "outputs": [],
   "source": [
    "original_list = [1, 2, 3]\n",
    "copied_list = original_list.copy()  # Shallow copy"
   ]
  },
  {
   "cell_type": "code",
   "execution_count": 46,
   "id": "573b1c00",
   "metadata": {},
   "outputs": [
    {
     "data": {
      "text/plain": [
       "[1, 2, 3]"
      ]
     },
     "execution_count": 46,
     "metadata": {},
     "output_type": "execute_result"
    }
   ],
   "source": [
    "# Shallow copy\n",
    "original_list.copy()"
   ]
  },
  {
   "cell_type": "code",
   "execution_count": 49,
   "id": "0341be19",
   "metadata": {},
   "outputs": [],
   "source": [
    "import copy\n",
    "\n",
    "original_nested_list = [[1, 2], [3, 4]]\n",
    "copied_nested_list1 = original_nested_list.copy()\n",
    "copied_nested_list = copy.deepcopy(original_nested_list)  # Deep copy\n"
   ]
  },
  {
   "cell_type": "code",
   "execution_count": 51,
   "id": "c6cc8d0d",
   "metadata": {},
   "outputs": [
    {
     "data": {
      "text/plain": [
       "[[1, 2], [3, 4]]"
      ]
     },
     "execution_count": 51,
     "metadata": {},
     "output_type": "execute_result"
    }
   ],
   "source": [
    "copied_nested_list1"
   ]
  },
  {
   "cell_type": "code",
   "execution_count": 52,
   "id": "27945d69",
   "metadata": {},
   "outputs": [
    {
     "data": {
      "text/plain": [
       "[[1, 2], [3, 4]]"
      ]
     },
     "execution_count": 52,
     "metadata": {},
     "output_type": "execute_result"
    }
   ],
   "source": [
    "copied_nested_list"
   ]
  },
  {
   "cell_type": "code",
   "execution_count": 53,
   "id": "d11635f2",
   "metadata": {},
   "outputs": [],
   "source": [
    "def my_generator():\n",
    "    yield 1\n",
    "    yield 2\n",
    "    yield 3\n",
    "\n",
    "gen = my_generator()  # Creating a generator object\n",
    "         "
   ]
  },
  {
   "cell_type": "code",
   "execution_count": 54,
   "id": "2a9329b6",
   "metadata": {},
   "outputs": [
    {
     "name": "stdout",
     "output_type": "stream",
     "text": [
      "1\n",
      "2\n",
      "3\n"
     ]
    }
   ],
   "source": [
    "gen = my_generator()\n",
    "print(next(gen))  # Output: 1\n",
    "print(next(gen))  # Output: 2\n",
    "print(next(gen))  # Output: 3\n"
   ]
  },
  {
   "cell_type": "code",
   "execution_count": 60,
   "id": "0880d746",
   "metadata": {},
   "outputs": [],
   "source": [
    "def infinite_counter():\n",
    "    count = 0\n",
    "    while True:\n",
    "        yield count\n",
    "        count += 1\n"
   ]
  },
  {
   "cell_type": "code",
   "execution_count": 61,
   "id": "b85dc7b4",
   "metadata": {},
   "outputs": [
    {
     "name": "stdout",
     "output_type": "stream",
     "text": [
      "5\n",
      "6\n",
      "7\n"
     ]
    }
   ],
   "source": [
    "gen = infinite_counter()\n",
    "print(next(gen))\n",
    "print(next(gen))\n",
    "print(next(gen))"
   ]
  },
  {
   "cell_type": "code",
   "execution_count": 62,
   "id": "b6a1edb8",
   "metadata": {},
   "outputs": [
    {
     "name": "stdout",
     "output_type": "stream",
     "text": [
      "0\n",
      "1\n",
      "3\n",
      "4\n"
     ]
    }
   ],
   "source": [
    "for i in range(5):\n",
    "    if i == 2:\n",
    "        continue\n",
    "    print(i)\n"
   ]
  },
  {
   "cell_type": "code",
   "execution_count": 63,
   "id": "95f04f98",
   "metadata": {},
   "outputs": [
    {
     "name": "stdout",
     "output_type": "stream",
     "text": [
      "0\n",
      "1\n"
     ]
    }
   ],
   "source": [
    "for i in range(5):\n",
    "    if i == 2:\n",
    "        break\n",
    "    print(i)\n"
   ]
  },
  {
   "cell_type": "code",
   "execution_count": 64,
   "id": "fc124f94",
   "metadata": {},
   "outputs": [
    {
     "name": "stdout",
     "output_type": "stream",
     "text": [
      "0\n",
      "1\n",
      "2\n",
      "3\n",
      "4\n"
     ]
    }
   ],
   "source": [
    "for i in range(5):\n",
    "    if i == 2:\n",
    "        pass\n",
    "    print(i)\n"
   ]
  },
  {
   "cell_type": "code",
   "execution_count": 72,
   "id": "557ad0e0",
   "metadata": {},
   "outputs": [
    {
     "name": "stdout",
     "output_type": "stream",
     "text": [
      "['this', 'is', 'a', 'string']\n",
      "thisisastring\n",
      "this is a string\n"
     ]
    }
   ],
   "source": [
    "string = \"this is a string\"\n",
    "\n",
    "#SPILTING\n",
    "spil=string.split()\n",
    "print(spil)\n",
    "#JOINING\n",
    "print(''.join(spil))\n",
    "#ORIGINAL\n",
    "print(string)"
   ]
  },
  {
   "cell_type": "code",
   "execution_count": 73,
   "id": "6a54ba4d",
   "metadata": {},
   "outputs": [
    {
     "name": "stdout",
     "output_type": "stream",
     "text": [
      "a 1\n",
      "b 2\n",
      "c 3\n"
     ]
    }
   ],
   "source": [
    "def my_function(**kwargs):\n",
    "    for key, value in kwargs.items():\n",
    "        print(key, value)\n",
    "\n",
    "my_function(a=1, b=2, c=3)\n",
    "# Output: a : 1\n",
    "#         b : 2\n",
    "#         c : 3\n"
   ]
  },
  {
   "cell_type": "code",
   "execution_count": 84,
   "id": "945f9df6",
   "metadata": {},
   "outputs": [
    {
     "name": "stdout",
     "output_type": "stream",
     "text": [
      "100\n"
     ]
    }
   ],
   "source": [
    "#NESTED FUNCTION\n",
    "\n",
    "def firstfuc():\n",
    "    y=100\n",
    "    def nestedfuc():\n",
    "        print(y)\n",
    "    nestedfuc()\n",
    "        \n",
    "firstfuc()\n"
   ]
  },
  {
   "cell_type": "code",
   "execution_count": 104,
   "id": "4a1b511d",
   "metadata": {},
   "outputs": [
    {
     "data": {
      "text/plain": [
       "{'cars': ['e', 'f', 'g'], 'bikes': ['a', 'b', 'c']}"
      ]
     },
     "execution_count": 104,
     "metadata": {},
     "output_type": "execute_result"
    }
   ],
   "source": [
    "#CREATING A DATASET\n",
    "\n",
    "import pandas as pd \n",
    "bikes = ['a','b','c']\n",
    "cars = ['e','f','g']\n",
    "\n",
    "df ={'cars':cars, 'bikes':bikes}\n",
    "df"
   ]
  },
  {
   "cell_type": "code",
   "execution_count": 114,
   "id": "34667b69",
   "metadata": {},
   "outputs": [
    {
     "data": {
      "text/plain": [
       "' Multi-line comment used\\nprint(\"Python Comments\") '"
      ]
     },
     "execution_count": 114,
     "metadata": {},
     "output_type": "execute_result"
    }
   ],
   "source": [
    "# Write Python code here\n",
    "\n",
    "\"\"\" Multi-line comment used\n",
    "print(\"Python Comments\") \"\"\"\n",
    "\n",
    "#print(\"Mathematics\")\n",
    "\n"
   ]
  },
  {
   "cell_type": "code",
   "execution_count": 116,
   "id": "b989b92a",
   "metadata": {},
   "outputs": [
    {
     "name": "stdout",
     "output_type": "stream",
     "text": [
      "THIS IS A ORDERED AND NOT REPEATED SET  [1, 4, 5, 6]\n"
     ]
    }
   ],
   "source": [
    "list0 = [1,5,5,4,4,6]\n",
    "\n",
    "list1 = list(set(list0))\n",
    "print(\"THIS IS A ORDERED AND NOT REPEATED SET \",list1)\n"
   ]
  },
  {
   "cell_type": "code",
   "execution_count": 125,
   "id": "48dfe556",
   "metadata": {},
   "outputs": [
    {
     "name": "stdout",
     "output_type": "stream",
     "text": [
      "[30, 10, 20, 8]\n",
      "[225, 25, 100, 16]\n"
     ]
    }
   ],
   "source": [
    "#MAPPING\n",
    "\n",
    "def add(n):\n",
    "    return n+n\n",
    "numbers = [15,5,10,4]\n",
    "res = map(add,numbers)\n",
    "print(list(res))\n",
    "\n",
    "def square(n):\n",
    "    return n**2\n",
    "numbers = [15,5,10,4]\n",
    "res1 = map(square, numbers)\n",
    "print(list(res1))"
   ]
  },
  {
   "cell_type": "code",
   "execution_count": 126,
   "id": "eb8d2d88",
   "metadata": {},
   "outputs": [
    {
     "name": "stdout",
     "output_type": "stream",
     "text": [
      "Collecting functools\n",
      "  Downloading functools-0.5.tar.gz (4.9 kB)\n",
      "  Preparing metadata (setup.py): started\n",
      "  Preparing metadata (setup.py): finished with status 'done'\n",
      "Building wheels for collected packages: functools\n",
      "  Building wheel for functools (setup.py): started\n",
      "  Building wheel for functools (setup.py): finished with status 'error'\n",
      "  Running setup.py clean for functools\n",
      "Failed to build functools\n",
      "Installing collected packages: functools\n",
      "  Running setup.py install for functools: started\n",
      "  Running setup.py install for functools: finished with status 'error'\n",
      "Note: you may need to restart the kernel to use updated packages.\n"
     ]
    },
    {
     "name": "stderr",
     "output_type": "stream",
     "text": [
      "  error: subprocess-exited-with-error\n",
      "  \n",
      "  python setup.py bdist_wheel did not run successfully.\n",
      "  exit code: 1\n",
      "  \n",
      "  [9 lines of output]\n",
      "  running bdist_wheel\n",
      "  running build\n",
      "  running build_py\n",
      "  creating build\n",
      "  creating build\\lib.win-amd64-cpython-38\n",
      "  copying functools.py -> build\\lib.win-amd64-cpython-38\n",
      "  running build_ext\n",
      "  building '_functools' extension\n",
      "  error: Microsoft Visual C++ 14.0 or greater is required. Get it with \"Microsoft C++ Build Tools\": https://visualstudio.microsoft.com/visual-cpp-build-tools/\n",
      "  [end of output]\n",
      "  \n",
      "  note: This error originates from a subprocess, and is likely not a problem with pip.\n",
      "  ERROR: Failed building wheel for functools\n",
      "  error: subprocess-exited-with-error\n",
      "  \n",
      "  Running setup.py install for functools did not run successfully.\n",
      "  exit code: 1\n",
      "  \n",
      "  [11 lines of output]\n",
      "  running install\n",
      "  C:\\Users\\shree\\anaconda3\\envs\\py38\\lib\\site-packages\\setuptools\\command\\install.py:34: SetuptoolsDeprecationWarning: setup.py install is deprecated. Use build and pip and other standards-based tools.\n",
      "    warnings.warn(\n",
      "  running build\n",
      "  running build_py\n",
      "  creating build\n",
      "  creating build\\lib.win-amd64-cpython-38\n",
      "  copying functools.py -> build\\lib.win-amd64-cpython-38\n",
      "  running build_ext\n",
      "  building '_functools' extension\n",
      "  error: Microsoft Visual C++ 14.0 or greater is required. Get it with \"Microsoft C++ Build Tools\": https://visualstudio.microsoft.com/visual-cpp-build-tools/\n",
      "  [end of output]\n",
      "  \n",
      "  note: This error originates from a subprocess, and is likely not a problem with pip.\n",
      "error: legacy-install-failure\n",
      "\n",
      "Encountered error while trying to install package.\n",
      "\n",
      "functools\n",
      "\n",
      "note: This is an issue with the package mentioned above, not pip.\n",
      "hint: See above for output from the failure.\n"
     ]
    }
   ],
   "source": [
    "pip install functools"
   ]
  },
  {
   "cell_type": "code",
   "execution_count": 127,
   "id": "f4a426a8",
   "metadata": {},
   "outputs": [],
   "source": [
    "\n",
    "from functools import reduce \n"
   ]
  },
  {
   "cell_type": "code",
   "execution_count": 129,
   "id": "0a1e139b",
   "metadata": {},
   "outputs": [
    {
     "name": "stdout",
     "output_type": "stream",
     "text": [
      "43\n"
     ]
    }
   ],
   "source": [
    "seq = [5,6,4,9,5,3,4,7]\n",
    "\n",
    "sum = reduce(lambda x,y: x+y, seq)\n",
    "print(sum)"
   ]
  },
  {
   "cell_type": "code",
   "execution_count": null,
   "id": "e72abc1c",
   "metadata": {},
   "outputs": [],
   "source": []
  }
 ],
 "metadata": {
  "kernelspec": {
   "display_name": "Python 3 (ipykernel)",
   "language": "python",
   "name": "python3"
  },
  "language_info": {
   "codemirror_mode": {
    "name": "ipython",
    "version": 3
   },
   "file_extension": ".py",
   "mimetype": "text/x-python",
   "name": "python",
   "nbconvert_exporter": "python",
   "pygments_lexer": "ipython3",
   "version": "3.8.13"
  }
 },
 "nbformat": 4,
 "nbformat_minor": 5
}
